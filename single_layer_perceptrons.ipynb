{
 "cells": [
  {
   "cell_type": "markdown",
   "metadata": {},
   "source": [
    "# Single Layer Perceptron\n",
    "\n",
    "<!--### Introduction-->\n"
   ]
  },
  {
   "cell_type": "code",
   "execution_count": 122,
   "metadata": {},
   "outputs": [],
   "source": [
    "import numpy as np\n",
    "import pandas as pd"
   ]
  },
  {
   "cell_type": "markdown",
   "metadata": {},
   "source": [
    "#### Importing data as Pandas DataFrame\n",
    "\n",
    "iris-setosa: -1\n",
    "\n",
    "iris-versicolor: 0\n",
    "\n",
    "iris-virginica: 1"
   ]
  },
  {
   "cell_type": "code",
   "execution_count": 123,
   "metadata": {},
   "outputs": [
    {
     "data": {
      "text/html": [
       "<div>\n",
       "<style scoped>\n",
       "    .dataframe tbody tr th:only-of-type {\n",
       "        vertical-align: middle;\n",
       "    }\n",
       "\n",
       "    .dataframe tbody tr th {\n",
       "        vertical-align: top;\n",
       "    }\n",
       "\n",
       "    .dataframe thead th {\n",
       "        text-align: right;\n",
       "    }\n",
       "</style>\n",
       "<table border=\"1\" class=\"dataframe\">\n",
       "  <thead>\n",
       "    <tr style=\"text-align: right;\">\n",
       "      <th></th>\n",
       "      <th>Sepal_len_cm</th>\n",
       "      <th>Sepal_wid_cm</th>\n",
       "      <th>Petal_len_cm</th>\n",
       "      <th>Petal_wid_cm</th>\n",
       "      <th>Type</th>\n",
       "    </tr>\n",
       "  </thead>\n",
       "  <tbody>\n",
       "    <tr>\n",
       "      <th>0</th>\n",
       "      <td>4.9</td>\n",
       "      <td>3.0</td>\n",
       "      <td>1.4</td>\n",
       "      <td>0.2</td>\n",
       "      <td>0</td>\n",
       "    </tr>\n",
       "    <tr>\n",
       "      <th>1</th>\n",
       "      <td>4.7</td>\n",
       "      <td>3.2</td>\n",
       "      <td>1.3</td>\n",
       "      <td>0.2</td>\n",
       "      <td>0</td>\n",
       "    </tr>\n",
       "    <tr>\n",
       "      <th>2</th>\n",
       "      <td>4.6</td>\n",
       "      <td>3.1</td>\n",
       "      <td>1.5</td>\n",
       "      <td>0.2</td>\n",
       "      <td>0</td>\n",
       "    </tr>\n",
       "    <tr>\n",
       "      <th>3</th>\n",
       "      <td>5.0</td>\n",
       "      <td>3.6</td>\n",
       "      <td>1.4</td>\n",
       "      <td>0.2</td>\n",
       "      <td>0</td>\n",
       "    </tr>\n",
       "    <tr>\n",
       "      <th>4</th>\n",
       "      <td>5.4</td>\n",
       "      <td>3.9</td>\n",
       "      <td>1.7</td>\n",
       "      <td>0.4</td>\n",
       "      <td>0</td>\n",
       "    </tr>\n",
       "    <tr>\n",
       "      <th>5</th>\n",
       "      <td>4.6</td>\n",
       "      <td>3.4</td>\n",
       "      <td>1.4</td>\n",
       "      <td>0.3</td>\n",
       "      <td>0</td>\n",
       "    </tr>\n",
       "    <tr>\n",
       "      <th>6</th>\n",
       "      <td>5.0</td>\n",
       "      <td>3.4</td>\n",
       "      <td>1.5</td>\n",
       "      <td>0.2</td>\n",
       "      <td>0</td>\n",
       "    </tr>\n",
       "    <tr>\n",
       "      <th>7</th>\n",
       "      <td>4.4</td>\n",
       "      <td>2.9</td>\n",
       "      <td>1.4</td>\n",
       "      <td>0.2</td>\n",
       "      <td>0</td>\n",
       "    </tr>\n",
       "    <tr>\n",
       "      <th>8</th>\n",
       "      <td>4.9</td>\n",
       "      <td>3.1</td>\n",
       "      <td>1.5</td>\n",
       "      <td>0.1</td>\n",
       "      <td>0</td>\n",
       "    </tr>\n",
       "    <tr>\n",
       "      <th>9</th>\n",
       "      <td>5.4</td>\n",
       "      <td>3.7</td>\n",
       "      <td>1.5</td>\n",
       "      <td>0.2</td>\n",
       "      <td>0</td>\n",
       "    </tr>\n",
       "  </tbody>\n",
       "</table>\n",
       "</div>"
      ],
      "text/plain": [
       "   Sepal_len_cm  Sepal_wid_cm  Petal_len_cm  Petal_wid_cm  Type\n",
       "0           4.9           3.0           1.4           0.2     0\n",
       "1           4.7           3.2           1.3           0.2     0\n",
       "2           4.6           3.1           1.5           0.2     0\n",
       "3           5.0           3.6           1.4           0.2     0\n",
       "4           5.4           3.9           1.7           0.4     0\n",
       "5           4.6           3.4           1.4           0.3     0\n",
       "6           5.0           3.4           1.5           0.2     0\n",
       "7           4.4           2.9           1.4           0.2     0\n",
       "8           4.9           3.1           1.5           0.1     0\n",
       "9           5.4           3.7           1.5           0.2     0"
      ]
     },
     "execution_count": 123,
     "metadata": {},
     "output_type": "execute_result"
    }
   ],
   "source": [
    "data=pd.read_csv('iris.csv')\n",
    "data.columns=['Sepal_len_cm','Sepal_wid_cm','Petal_len_cm','Petal_wid_cm','Type']\n",
    "data.head(10)"
   ]
  },
  {
   "cell_type": "markdown",
   "metadata": {},
   "source": [
    "### Training\n",
    "\n",
    "- I am using Sigmoid function as the activation function"
   ]
  },
  {
   "cell_type": "code",
   "execution_count": 124,
   "metadata": {},
   "outputs": [],
   "source": [
    "def activation_func(value):    #Tangent Hypotenuse\n",
    "    #return (1/(1+np.exp(-value)))\n",
    "    return ((np.exp(value)-np.exp(-value))/(np.exp(value)+np.exp(-value)))"
   ]
  },
  {
   "cell_type": "code",
   "execution_count": 125,
   "metadata": {},
   "outputs": [],
   "source": [
    "def perceptron_train(in_data,labels,alpha):\n",
    "    X=np.array(in_data)\n",
    "    y=np.array(labels)\n",
    "    weights=np.random.random(X.shape[1])\n",
    "    original=weights\n",
    "    bias=np.random.random_sample()\n",
    "    for key in range(X.shape[0]):\n",
    "        a=activation_func(np.matmul(np.transpose(weights),X[key]))     \n",
    "        yn=0\n",
    "        if a>=0.7:\n",
    "            yn=1\n",
    "        elif a<=(-0.7):\n",
    "            yn=-1\n",
    "        weights=weights+alpha*(yn-y[key])*X[key]\n",
    "        print('Iteration '+str(key)+': '+str(weights))\n",
    "    print('Difference: '+str(weights-original))\n",
    "    return weights"
   ]
  },
  {
   "cell_type": "markdown",
   "metadata": {},
   "source": [
    "### Testing and Score"
   ]
  },
  {
   "cell_type": "code",
   "execution_count": 126,
   "metadata": {},
   "outputs": [],
   "source": [
    "def perceptron_test(in_data,label_shape,weights):\n",
    "    X=np.array(in_data)\n",
    "    y=np.zeros(label_shape)\n",
    "    for key in range(X.shape[1]):\n",
    "        a=activation_func((weights*X[key]).sum())\n",
    "        y[key]=0\n",
    "        if a>=0.7:\n",
    "            y[key]=1\n",
    "        elif a<=(-0.7):\n",
    "            y[key]=-1\n",
    "    return y"
   ]
  },
  {
   "cell_type": "code",
   "execution_count": 127,
   "metadata": {},
   "outputs": [],
   "source": [
    "def score(result,labels):\n",
    "    difference=result-np.array(labels)                                                        \n",
    "    correct_ctr=0\n",
    "    for elem in range(difference.shape[0]):\n",
    "        if difference[elem]==0:\n",
    "            correct_ctr+=1\n",
    "    score=correct_ctr*100/difference.size\n",
    "    print('Score='+str(score))"
   ]
  },
  {
   "cell_type": "markdown",
   "metadata": {},
   "source": [
    "### Main code "
   ]
  },
  {
   "cell_type": "code",
   "execution_count": 128,
   "metadata": {},
   "outputs": [],
   "source": [
    "# Dividing DataFrame \"data\" into \"d_train\" (60%) and \"d_test\" (40%)\n",
    "divider = np.random.rand(len(data)) < 0.70\n",
    "d_train=data[divider]\n",
    "d_test=data[~divider]"
   ]
  },
  {
   "cell_type": "code",
   "execution_count": 129,
   "metadata": {},
   "outputs": [],
   "source": [
    "# Dividing d_train into data and labels/targets\n",
    "d_train_y=d_train['Type']\n",
    "d_train_X=d_train.drop(['Type'],axis=1)\n",
    "\n",
    "# Dividing d_train into data and labels/targets\n",
    "d_test_y=d_test['Type']\n",
    "d_test_X=d_test.drop(['Type'],axis=1)"
   ]
  },
  {
   "cell_type": "code",
   "execution_count": 130,
   "metadata": {},
   "outputs": [
    {
     "name": "stdout",
     "output_type": "stream",
     "text": [
      "Iteration 0: [0.60247162 0.84998078 0.71341136 0.38144429]\n",
      "Iteration 1: [0.64847162 0.88098078 0.72841136 0.38344429]\n",
      "Iteration 2: [0.70247162 0.91998078 0.74541136 0.38744429]\n",
      "Iteration 3: [0.74847162 0.95398078 0.75941136 0.39044429]\n",
      "Iteration 4: [0.79247162 0.98298078 0.77341136 0.39244429]\n",
      "Iteration 5: [0.84147162 1.01398078 0.78841136 0.39344429]\n",
      "Iteration 6: [0.88947162 1.04798078 0.80441136 0.39544429]\n",
      "Iteration 7: [0.93247162 1.07798078 0.81541136 0.39644429]\n",
      "Iteration 8: [0.98947162 1.12198078 0.83041136 0.40044429]\n",
      "Iteration 9: [1.04647162 1.15998078 0.84741136 0.40344429]\n",
      "Iteration 10: [1.09447162 1.19398078 0.86641136 0.40544429]\n",
      "Iteration 11: [1.14447162 1.22798078 0.88241136 0.40944429]\n",
      "Iteration 12: [1.19647162 1.26198078 0.89641136 0.41144429]\n",
      "Iteration 13: [1.25047162 1.29598078 0.91141136 0.41544429]\n",
      "Iteration 14: [1.30247162 1.33698078 0.92641136 0.41644429]\n",
      "Iteration 15: [1.34647162 1.36698078 0.93941136 0.41844429]\n",
      "Iteration 16: [1.39747162 1.40098078 0.95441136 0.42044429]\n",
      "Iteration 17: [1.44747162 1.43598078 0.96741136 0.42344429]\n",
      "Iteration 18: [1.49247162 1.45898078 0.98041136 0.42644429]\n",
      "Iteration 19: [1.53647162 1.49098078 0.99341136 0.42844429]\n",
      "Iteration 20: [1.58647162 1.52598078 1.00941136 0.43444429]\n",
      "Iteration 21: [1.63447162 1.55598078 1.02341136 0.43744429]\n",
      "Iteration 22: [1.68547162 1.59398078 1.03941136 0.43944429]\n",
      "Iteration 23: [1.73147162 1.62598078 1.05341136 0.44144429]\n",
      "Iteration 24: [1.78447162 1.66298078 1.06841136 0.44344429]\n",
      "Iteration 25: [1.83447162 1.69598078 1.08241136 0.44544429]\n",
      "Iteration 26: [1.97447162 1.75998078 1.17641136 0.47344429]\n",
      "Iteration 27: [2.10247162 1.82398078 1.26641136 0.50344429]\n",
      "Iteration 28: [2.23247162 1.87998078 1.35841136 0.53344429]\n",
      "Iteration 29: [2.34647162 1.93598078 1.44841136 0.55944429]\n",
      "Iteration 30: [2.47247162 2.00198078 1.54241136 0.59144429]\n",
      "Iteration 31: [2.57047162 2.04998078 1.60841136 0.61144429]\n",
      "Iteration 32: [2.70247162 2.10798078 1.70041136 0.63744429]\n",
      "Iteration 33: [2.80647162 2.16198078 1.77841136 0.66544429]\n",
      "Iteration 34: [2.92647162 2.20598078 1.85841136 0.68544429]\n",
      "Iteration 35: [3.04847162 2.26398078 1.95241136 0.71344429]\n",
      "Iteration 36: [3.16047162 2.32198078 2.02441136 0.73944429]\n",
      "Iteration 37: [3.27247162 2.38198078 2.11441136 0.76944429]\n",
      "Iteration 38: [3.39647162 2.42598078 2.20441136 0.79944429]\n",
      "Iteration 39: [3.50847162 2.47598078 2.28241136 0.82144429]\n",
      "Iteration 40: [3.62647162 2.53998078 2.37841136 0.85744429]\n",
      "Iteration 41: [3.75247162 2.58998078 2.47641136 0.88744429]\n",
      "Iteration 42: [3.87447162 2.64598078 2.57041136 0.91144429]\n",
      "Iteration 43: [4.00247162 2.70398078 2.65641136 0.93744429]\n",
      "Iteration 44: [4.13447162 2.76398078 2.74441136 0.96544429]\n",
      "Iteration 45: [4.27047162 2.81998078 2.84041136 0.99344429]\n",
      "Iteration 46: [4.40447162 2.87998078 2.94041136 1.02744429]\n",
      "Iteration 47: [4.51847162 2.93198078 3.01041136 1.04744429]\n",
      "Iteration 48: [4.62847162 2.97998078 3.08641136 1.06944429]\n",
      "Iteration 49: [4.74447162 3.03398078 3.16441136 1.09344429]\n",
      "Iteration 50: [4.86447162 3.08798078 3.26641136 1.12544429]\n",
      "Iteration 51: [4.97247162 3.14798078 3.35641136 1.15544429]\n",
      "Iteration 52: [5.10647162 3.20998078 3.45041136 1.18544429]\n",
      "Iteration 53: [5.23247162 3.25598078 3.53841136 1.21144429]\n",
      "Iteration 54: [5.34447162 3.31598078 3.62041136 1.23744429]\n",
      "Iteration 55: [5.45447162 3.36598078 3.70041136 1.26344429]\n",
      "Iteration 56: [5.56447162 3.41798078 3.78841136 1.28744429]\n",
      "Iteration 57: [5.68647162 3.47798078 3.88041136 1.31544429]\n",
      "Iteration 58: [5.78647162 3.52398078 3.94641136 1.33544429]\n",
      "Iteration 59: [5.89847162 3.57798078 4.03041136 1.36144429]\n",
      "Iteration 60: [6.01247162 3.63798078 4.11441136 1.38544429]\n",
      "Iteration 61: [6.12647162 3.69598078 4.19841136 1.41144429]\n",
      "Iteration 62: [6.25047162 3.75398078 4.28441136 1.43744429]\n",
      "Iteration 63: [6.36447162 3.80998078 4.36641136 1.46344429]\n",
      "Iteration 64: [6.36447162 3.80998078 4.36641136 1.46344429]\n",
      "Iteration 65: [6.36447162 3.80998078 4.36641136 1.46344429]\n",
      "Iteration 66: [6.36447162 3.80998078 4.36641136 1.46344429]\n",
      "Iteration 67: [6.36447162 3.80998078 4.36641136 1.46344429]\n",
      "Iteration 68: [6.36447162 3.80998078 4.36641136 1.46344429]\n",
      "Iteration 69: [6.36447162 3.80998078 4.36641136 1.46344429]\n",
      "Iteration 70: [6.36447162 3.80998078 4.36641136 1.46344429]\n",
      "Iteration 71: [6.36447162 3.80998078 4.36641136 1.46344429]\n",
      "Iteration 72: [6.36447162 3.80998078 4.36641136 1.46344429]\n",
      "Iteration 73: [6.36447162 3.80998078 4.36641136 1.46344429]\n",
      "Iteration 74: [6.36447162 3.80998078 4.36641136 1.46344429]\n",
      "Iteration 75: [6.36447162 3.80998078 4.36641136 1.46344429]\n",
      "Iteration 76: [6.36447162 3.80998078 4.36641136 1.46344429]\n",
      "Iteration 77: [6.36447162 3.80998078 4.36641136 1.46344429]\n",
      "Iteration 78: [6.36447162 3.80998078 4.36641136 1.46344429]\n",
      "Iteration 79: [6.36447162 3.80998078 4.36641136 1.46344429]\n",
      "Iteration 80: [6.36447162 3.80998078 4.36641136 1.46344429]\n",
      "Iteration 81: [6.36447162 3.80998078 4.36641136 1.46344429]\n",
      "Iteration 82: [6.36447162 3.80998078 4.36641136 1.46344429]\n",
      "Iteration 83: [6.36447162 3.80998078 4.36641136 1.46344429]\n",
      "Iteration 84: [6.36447162 3.80998078 4.36641136 1.46344429]\n",
      "Iteration 85: [6.36447162 3.80998078 4.36641136 1.46344429]\n",
      "Iteration 86: [6.36447162 3.80998078 4.36641136 1.46344429]\n",
      "Iteration 87: [6.36447162 3.80998078 4.36641136 1.46344429]\n",
      "Iteration 88: [6.36447162 3.80998078 4.36641136 1.46344429]\n",
      "Iteration 89: [6.36447162 3.80998078 4.36641136 1.46344429]\n",
      "Iteration 90: [6.36447162 3.80998078 4.36641136 1.46344429]\n",
      "Iteration 91: [6.36447162 3.80998078 4.36641136 1.46344429]\n",
      "Iteration 92: [6.36447162 3.80998078 4.36641136 1.46344429]\n",
      "Iteration 93: [6.36447162 3.80998078 4.36641136 1.46344429]\n",
      "Iteration 94: [6.36447162 3.80998078 4.36641136 1.46344429]\n",
      "Iteration 95: [6.36447162 3.80998078 4.36641136 1.46344429]\n",
      "Iteration 96: [6.36447162 3.80998078 4.36641136 1.46344429]\n",
      "Iteration 97: [6.36447162 3.80998078 4.36641136 1.46344429]\n",
      "Iteration 98: [6.36447162 3.80998078 4.36641136 1.46344429]\n",
      "Difference: [5.809 2.992 3.666 1.084]\n"
     ]
    }
   ],
   "source": [
    "# Learning rate\n",
    "alpha = 0.01\n",
    "\n",
    "# Train\n",
    "weights = perceptron_train(d_train_X, d_train_y, alpha)"
   ]
  },
  {
   "cell_type": "code",
   "execution_count": 131,
   "metadata": {},
   "outputs": [],
   "source": [
    "# Test\n",
    "result_test=perceptron_test(d_test_X,d_test_y.shape,weights)"
   ]
  },
  {
   "cell_type": "code",
   "execution_count": 132,
   "metadata": {},
   "outputs": [
    {
     "name": "stdout",
     "output_type": "stream",
     "text": [
      "Score=38.0\n"
     ]
    }
   ],
   "source": [
    "# Calculate score\n",
    "score(result_test,d_test_y)"
   ]
  }
 ],
 "metadata": {
  "kernelspec": {
   "display_name": "Python 3",
   "language": "python",
   "name": "python3"
  },
  "language_info": {
   "codemirror_mode": {
    "name": "ipython",
    "version": 3
   },
   "file_extension": ".py",
   "mimetype": "text/x-python",
   "name": "python",
   "nbconvert_exporter": "python",
   "pygments_lexer": "ipython3",
   "version": "3.11.4"
  }
 },
 "nbformat": 4,
 "nbformat_minor": 2
}
