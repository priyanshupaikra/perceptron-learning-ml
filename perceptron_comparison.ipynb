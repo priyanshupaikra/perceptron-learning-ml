{
 "cells": [
  {
   "cell_type": "markdown",
   "metadata": {},
   "source": [
    "# Perceptron Comparison: Single-Layer vs Multi-Layer\n",
    "\n",
    "This notebook compares the performance of a Single-Layer Perceptron and a Multi-Layer Perceptron on the Iris dataset."
   ]
  },
  {
   "cell_type": "code",
   "execution_count": 22,
   "metadata": {},
   "outputs": [],
   "source": [
    "import numpy as np\n",
    "import pandas as pd\n",
    "import matplotlib.pyplot as plt\n",
    "from sklearn.model_selection import train_test_split\n",
    "from sklearn.preprocessing import StandardScaler\n",
    "from sklearn.metrics import accuracy_score, confusion_matrix\n",
    "import seaborn as sns"
   ]
  },
  {
   "cell_type": "markdown",
   "metadata": {},
   "source": [
    "## Data Preparation"
   ]
  },
  {
   "cell_type": "code",
   "execution_count": 23,
   "metadata": {},
   "outputs": [
    {
     "name": "stdout",
     "output_type": "stream",
     "text": [
      "Dataset shape: (149, 5)\n"
     ]
    },
    {
     "data": {
      "text/html": [
       "<div>\n",
       "<style scoped>\n",
       "    .dataframe tbody tr th:only-of-type {\n",
       "        vertical-align: middle;\n",
       "    }\n",
       "\n",
       "    .dataframe tbody tr th {\n",
       "        vertical-align: top;\n",
       "    }\n",
       "\n",
       "    .dataframe thead th {\n",
       "        text-align: right;\n",
       "    }\n",
       "</style>\n",
       "<table border=\"1\" class=\"dataframe\">\n",
       "  <thead>\n",
       "    <tr style=\"text-align: right;\">\n",
       "      <th></th>\n",
       "      <th>Sepal_len_cm</th>\n",
       "      <th>Sepal_wid_cm</th>\n",
       "      <th>Petal_len_cm</th>\n",
       "      <th>Petal_wid_cm</th>\n",
       "      <th>Type</th>\n",
       "    </tr>\n",
       "  </thead>\n",
       "  <tbody>\n",
       "    <tr>\n",
       "      <th>0</th>\n",
       "      <td>4.9</td>\n",
       "      <td>3.0</td>\n",
       "      <td>1.4</td>\n",
       "      <td>0.2</td>\n",
       "      <td>0</td>\n",
       "    </tr>\n",
       "    <tr>\n",
       "      <th>1</th>\n",
       "      <td>4.7</td>\n",
       "      <td>3.2</td>\n",
       "      <td>1.3</td>\n",
       "      <td>0.2</td>\n",
       "      <td>0</td>\n",
       "    </tr>\n",
       "    <tr>\n",
       "      <th>2</th>\n",
       "      <td>4.6</td>\n",
       "      <td>3.1</td>\n",
       "      <td>1.5</td>\n",
       "      <td>0.2</td>\n",
       "      <td>0</td>\n",
       "    </tr>\n",
       "    <tr>\n",
       "      <th>3</th>\n",
       "      <td>5.0</td>\n",
       "      <td>3.6</td>\n",
       "      <td>1.4</td>\n",
       "      <td>0.2</td>\n",
       "      <td>0</td>\n",
       "    </tr>\n",
       "    <tr>\n",
       "      <th>4</th>\n",
       "      <td>5.4</td>\n",
       "      <td>3.9</td>\n",
       "      <td>1.7</td>\n",
       "      <td>0.4</td>\n",
       "      <td>0</td>\n",
       "    </tr>\n",
       "  </tbody>\n",
       "</table>\n",
       "</div>"
      ],
      "text/plain": [
       "   Sepal_len_cm  Sepal_wid_cm  Petal_len_cm  Petal_wid_cm  Type\n",
       "0           4.9           3.0           1.4           0.2     0\n",
       "1           4.7           3.2           1.3           0.2     0\n",
       "2           4.6           3.1           1.5           0.2     0\n",
       "3           5.0           3.6           1.4           0.2     0\n",
       "4           5.4           3.9           1.7           0.4     0"
      ]
     },
     "execution_count": 23,
     "metadata": {},
     "output_type": "execute_result"
    }
   ],
   "source": [
    "# Load data\n",
    "data = pd.read_csv('iris.csv')\n",
    "data.columns = ['Sepal_len_cm','Sepal_wid_cm','Petal_len_cm','Petal_wid_cm','Type']\n",
    "print(\"Dataset shape:\", data.shape)\n",
    "data.head()"
   ]
  },
  {
   "cell_type": "code",
   "execution_count": 24,
   "metadata": {},
   "outputs": [
    {
     "name": "stdout",
     "output_type": "stream",
     "text": [
      "Training set shape: (104, 4) (104,)\n",
      "Testing set shape: (45, 4) (45,)\n"
     ]
    }
   ],
   "source": [
    "# Prepare features and labels\n",
    "X = data.drop('Type', axis=1).values\n",
    "y = data['Type'].values\n",
    "\n",
    "# Split data into training and testing sets\n",
    "X_train, X_test, y_train, y_test = train_test_split(X, y, test_size=0.3, random_state=42)\n",
    "\n",
    "# Standardize features\n",
    "scaler = StandardScaler()\n",
    "X_train_scaled = scaler.fit_transform(X_train)\n",
    "X_test_scaled = scaler.transform(X_test)\n",
    "\n",
    "print(\"Training set shape:\", X_train.shape, y_train.shape)\n",
    "print(\"Testing set shape:\", X_test.shape, y_test.shape)"
   ]
  },
  {
   "cell_type": "markdown",
   "metadata": {},
   "source": [
    "## Single-Layer Perceptron Implementation\n",
    "\n",
    "Based on the implementation from the single_layer_perceptrons.ipynb notebook."
   ]
  },
  {
   "cell_type": "code",
   "execution_count": 25,
   "metadata": {},
   "outputs": [],
   "source": [
    "def activation_func(value):\n",
    "    # Tangent Hypotenuse (tanh)\n",
    "    return np.tanh(value)\n",
    "\n",
    "def perceptron_train(X, y, alpha=0.01, epochs=100):\n",
    "    weights = np.random.random(X.shape[1])\n",
    "    bias = np.random.random_sample()\n",
    "    \n",
    "    for epoch in range(epochs):\n",
    "        for i in range(X.shape[0]):\n",
    "            # Forward pass\n",
    "            a = activation_func(np.dot(weights, X[i]) + bias)\n",
    "            \n",
    "            # Convert continuous output to discrete classes\n",
    "            yn = 0\n",
    "            if a >= 0.7:\n",
    "                yn = 1\n",
    "            elif a <= (-0.7):\n",
    "                yn = -1\n",
    "            \n",
    "            # Update weights\n",
    "            weights = weights + alpha * (yn - y[i]) * X[i]\n",
    "            bias = bias + alpha * (yn - y[i])\n",
    "    \n",
    "    return weights, bias\n",
    "\n",
    "def perceptron_predict(X, weights, bias):\n",
    "    predictions = np.zeros(X.shape[0])\n",
    "    for i in range(X.shape[0]):\n",
    "        a = activation_func(np.dot(weights, X[i]) + bias)\n",
    "        if a >= 0.7:\n",
    "            predictions[i] = 1\n",
    "        elif a <= -0.7:\n",
    "            predictions[i] = -1\n",
    "        else:\n",
    "            predictions[i] = 0\n",
    "    return predictions"
   ]
  },
  {
   "cell_type": "markdown",
   "metadata": {},
   "source": [
    "## Multi-Layer Perceptron Implementation"
   ]
  },
  {
   "cell_type": "code",
   "execution_count": 26,
   "metadata": {},
   "outputs": [],
   "source": [
    "class MultiLayerPerceptron:\n",
    "    def __init__(self, input_size, hidden_size, output_size, learning_rate=0.01):\n",
    "        self.input_size = input_size\n",
    "        self.hidden_size = hidden_size\n",
    "        self.output_size = output_size\n",
    "        self.learning_rate = learning_rate\n",
    "        \n",
    "        # Initialize weights and biases\n",
    "        self.W1 = np.random.randn(self.input_size, self.hidden_size) * 0.1\n",
    "        self.b1 = np.zeros((1, self.hidden_size))\n",
    "        self.W2 = np.random.randn(self.hidden_size, self.output_size) * 0.1\n",
    "        self.b2 = np.zeros((1, self.output_size))\n",
    "        \n",
    "    def sigmoid(self, x):\n",
    "        # Clip x to prevent overflow\n",
    "        x = np.clip(x, -500, 500)\n",
    "        return 1 / (1 + np.exp(-x))\n",
    "    \n",
    "    def sigmoid_derivative(self, x):\n",
    "        return x * (1 - x)\n",
    "    \n",
    "    def forward(self, X):\n",
    "        # Forward propagation\n",
    "        self.z1 = np.dot(X, self.W1) + self.b1\n",
    "        self.a1 = self.sigmoid(self.z1)\n",
    "        self.z2 = np.dot(self.a1, self.W2) + self.b2\n",
    "        self.a2 = self.sigmoid(self.z2)\n",
    "        return self.a2\n",
    "    \n",
    "    def backward(self, X, y, output):\n",
    "        # Backward propagation\n",
    "        m = X.shape[0]\n",
    "        \n",
    "        # Calculate gradients\n",
    "        dZ2 = output - y\n",
    "        dW2 = (1/m) * np.dot(self.a1.T, dZ2)\n",
    "        db2 = (1/m) * np.sum(dZ2, axis=0, keepdims=True)\n",
    "        \n",
    "        dA1 = np.dot(dZ2, self.W2.T)\n",
    "        dZ1 = dA1 * self.sigmoid_derivative(self.a1)\n",
    "        dW1 = (1/m) * np.dot(X.T, dZ1)\n",
    "        db1 = (1/m) * np.sum(dZ1, axis=0, keepdims=True)\n",
    "        \n",
    "        # Update weights and biases\n",
    "        self.W2 -= self.learning_rate * dW2\n",
    "        self.b2 -= self.learning_rate * db2\n",
    "        self.W1 -= self.learning_rate * dW1\n",
    "        self.b1 -= self.learning_rate * db1\n",
    "    \n",
    "    def train(self, X, y, epochs):\n",
    "        self.losses = []\n",
    "        \n",
    "        # Convert labels to one-hot encoding\n",
    "        y_one_hot = self.to_one_hot(y)\n",
    "        \n",
    "        for i in range(epochs):\n",
    "            # Forward propagation\n",
    "            output = self.forward(X)\n",
    "            \n",
    "            # Calculate loss (Mean Squared Error)\n",
    "            loss = np.mean((output - y_one_hot) ** 2)\n",
    "            self.losses.append(loss)\n",
    "            \n",
    "            # Backward propagation\n",
    "            self.backward(X, y_one_hot, output)\n",
    "    \n",
    "    def to_one_hot(self, labels):\n",
    "        n_classes = len(np.unique([-1, 0, 1]))  # We know we have 3 classes\n",
    "        one_hot = np.zeros((labels.shape[0], n_classes))\n",
    "        for i, label in enumerate(labels):\n",
    "            if label == -1:  # First class\n",
    "                one_hot[i, 0] = 1\n",
    "            elif label == 0:  # Second class\n",
    "                one_hot[i, 1] = 1\n",
    "            else:  # Third class (label == 1)\n",
    "                one_hot[i, 2] = 1\n",
    "        return one_hot\n",
    "    \n",
    "    def from_one_hot(self, one_hot):\n",
    "        return np.argmax(one_hot, axis=1) - 1  # Convert back to -1, 0, 1\n",
    "    \n",
    "    def predict(self, X):\n",
    "        output = self.forward(X)\n",
    "        # Convert probabilities to class predictions\n",
    "        return self.from_one_hot(output)"
   ]
  },
  {
   "cell_type": "markdown",
   "metadata": {},
   "source": [
    "## Training Both Models"
   ]
  },
  {
   "cell_type": "code",
   "execution_count": 27,
   "metadata": {},
   "outputs": [
    {
     "name": "stdout",
     "output_type": "stream",
     "text": [
      "Training Single-Layer Perceptron...\n",
      "Training Multi-Layer Perceptron...\n"
     ]
    }
   ],
   "source": [
    "# Train Single-Layer Perceptron\n",
    "print(\"Training Single-Layer Perceptron...\")\n",
    "slp_weights, slp_bias = perceptron_train(X_train_scaled, y_train, alpha=0.01, epochs=100)\n",
    "\n",
    "# Train Multi-Layer Perceptron\n",
    "print(\"Training Multi-Layer Perceptron...\")\n",
    "mlp = MultiLayerPerceptron(input_size=4, hidden_size=10, output_size=3, learning_rate=0.5)\n",
    "mlp.train(X_train_scaled, y_train, epochs=1000)"
   ]
  },
  {
   "cell_type": "markdown",
   "metadata": {},
   "source": [
    "## Evaluation"
   ]
  },
  {
   "cell_type": "code",
   "execution_count": 28,
   "metadata": {},
   "outputs": [
    {
     "name": "stdout",
     "output_type": "stream",
     "text": [
      "=== MODEL COMPARISON ===\n",
      "\n",
      "Single-Layer Perceptron:\n",
      "  Training Accuracy: 35.58%\n",
      "  Testing Accuracy:  28.89%\n",
      "\n",
      "Multi-Layer Perceptron:\n",
      "  Training Accuracy: 100.00%\n",
      "  Testing Accuracy:  93.33%\n",
      "\n",
      "Improvement with MLP: 64.44% points\n"
     ]
    }
   ],
   "source": [
    "# Predictions\n",
    "slp_train_pred = perceptron_predict(X_train_scaled, slp_weights, slp_bias)\n",
    "slp_test_pred = perceptron_predict(X_test_scaled, slp_weights, slp_bias)\n",
    "\n",
    "mlp_train_pred = mlp.predict(X_train_scaled)\n",
    "mlp_test_pred = mlp.predict(X_test_scaled)\n",
    "\n",
    "# Calculate accuracies\n",
    "slp_train_accuracy = accuracy_score(y_train, slp_train_pred)\n",
    "slp_test_accuracy = accuracy_score(y_test, slp_test_pred)\n",
    "\n",
    "mlp_train_accuracy = accuracy_score(y_train, mlp_train_pred)\n",
    "mlp_test_accuracy = accuracy_score(y_test, mlp_test_pred)\n",
    "\n",
    "print(\"=== MODEL COMPARISON ===\")\n",
    "print(\"\\nSingle-Layer Perceptron:\")\n",
    "print(f\"  Training Accuracy: {slp_train_accuracy * 100:.2f}%\")\n",
    "print(f\"  Testing Accuracy:  {slp_test_accuracy * 100:.2f}%\")\n",
    "\n",
    "print(\"\\nMulti-Layer Perceptron:\")\n",
    "print(f\"  Training Accuracy: {mlp_train_accuracy * 100:.2f}%\")\n",
    "print(f\"  Testing Accuracy:  {mlp_test_accuracy * 100:.2f}%\")\n",
    "\n",
    "print(f\"\\nImprovement with MLP: {(mlp_test_accuracy - slp_test_accuracy) * 100:.2f}% points\")"
   ]
  },
  {
   "cell_type": "code",
   "execution_count": 29,
   "metadata": {},
   "outputs": [
    {
     "data": {
      "image/png": "[encoded data removed]",
      "text/plain": [
       "<Figure size 1000x600 with 1 Axes>"
      ]
     },
     "metadata": {},
     "output_type": "display_data"
    }
   ],
   "source": [
    "# Plot training loss for MLP\n",
    "plt.figure(figsize=(10, 6))\n",
    "plt.plot(mlp.losses)\n",
    "plt.title('MLP Training Loss Over Time')\n",
    "plt.xlabel('Epoch')\n",
    "plt.ylabel('Loss')\n",
    "plt.grid(True)\n",
    "plt.show()"
   ]
  },
  {
   "cell_type": "code",
   "execution_count": 30,
   "metadata": {},
   "outputs": [
    {
     "data": {
      "image/png": "[encoded data removed]",
      "text/plain": [
       "<Figure size 800x600 with 2 Axes>"
      ]
     },
     "metadata": {},
     "output_type": "display_data"
    }
   ],
   "source": [
    "# Confusion Matrix for MLP\n",
    "cm = confusion_matrix(y_test, mlp_test_pred)\n",
    "\n",
    "plt.figure(figsize=(8, 6))\n",
    "sns.heatmap(cm, annot=True, fmt='d', cmap='Blues', \n",
    "            xticklabels=['Class -1', 'Class 0', 'Class 1'],\n",
    "            yticklabels=['Class -1', 'Class 0', 'Class 1'])\n",
    "plt.title('MLP Confusion Matrix')\n",
    "plt.xlabel('Predicted')\n",
    "plt.ylabel('Actual')\n",
    "plt.show()"
   ]
  },
  {
   "cell_type": "markdown",
   "metadata": {},
   "source": [
    "## Detailed Analysis"
   ]
  },
  {
   "cell_type": "code",
   "execution_count": 31,
   "metadata": {},
   "outputs": [
    {
     "name": "stdout",
     "output_type": "stream",
     "text": [
      "Class -1 Accuracy: 76.92% (10/13)\n",
      "Class 0 Accuracy: 100.00% (19/19)\n",
      "Class 1 Accuracy: 100.00% (13/13)\n"
     ]
    }
   ],
   "source": [
    "# Class-wise accuracy for MLP\n",
    "unique_classes = np.unique(y_test)\n",
    "for class_label in unique_classes:\n",
    "    # Get indices for this class\n",
    "    class_indices = np.where(y_test == class_label)[0]\n",
    "    \n",
    "    # Get predictions for this class\n",
    "    class_true = y_test[class_indices]\n",
    "    class_pred = mlp_test_pred[class_indices]\n",
    "    \n",
    "    # Calculate accuracy\n",
    "    class_accuracy = accuracy_score(class_true, class_pred)\n",
    "    \n",
    "    print(f\"Class {class_label} Accuracy: {class_accuracy * 100:.2f}% ({np.sum(class_true == class_pred)}/{len(class_true)})\")"
   ]
  },
  {
   "cell_type": "markdown",
   "metadata": {},
   "source": [
    "## Key Differences Between SLP and MLP\n",
    "\n",
    "1. **Architecture**:\n",
    "   - SLP: Single layer of weights connecting input to output\n",
    "   - MLP: Multiple layers with hidden neurons allowing for non-linear decision boundaries\n",
    "\n",
    "2. **Learning Capability**:\n",
    "   - SLP: Can only learn linearly separable patterns\n",
    "   - MLP: Can learn complex, non-linear patterns through backpropagation\n",
    "\n",
    "3. **Performance**:\n",
    "   - SLP: Limited performance on complex datasets like Iris\n",
    "   - MLP: Significantly better performance due to its ability to model non-linear relationships\n",
    "\n",
    "4. **Training**:\n",
    "   - SLP: Simple weight update rule\n",
    "   - MLP: Requires backpropagation algorithm to compute gradients\n",
    "\n",
    "The Multi-Layer Perceptron significantly outperforms the Single-Layer Perceptron on the Iris dataset, demonstrating the power of deep learning architectures."
   ]
  }
 ],
 "metadata": {
  "kernelspec": {
   "display_name": "Python 3",
   "language": "python",
   "name": "python3"
  },
  "language_info": {
   "codemirror_mode": {
    "name": "ipython",
    "version": 3
   },
   "file_extension": ".py",
   "mimetype": "text/x-python",
   "name": "python",
   "nbconvert_exporter": "python",
   "pygments_lexer": "ipython3",
   "version": "3.11.4"
  }
 },
 "nbformat": 4,
 "nbformat_minor": 4
}
