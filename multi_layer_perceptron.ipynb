{
 "cells": [
  {
   "cell_type": "markdown",
   "metadata": {},
   "source": [
    "# Multi-Layer Perceptron\n",
    "\n",
    "This notebook implements a Multi-Layer Perceptron (MLP) for comparison with the Single-Layer Perceptron in the other notebook."
   ]
  },
  {
   "cell_type": "code",
   "execution_count": 110,
   "metadata": {},
   "outputs": [],
   "source": [
    "import numpy as np\n",
    "import pandas as pd\n",
    "import matplotlib.pyplot as plt\n",
    "from sklearn.model_selection import train_test_split\n",
    "from sklearn.preprocessing import StandardScaler\n",
    "from sklearn.metrics import accuracy_score, confusion_matrix\n",
    "import seaborn as sns"
   ]
  },
  {
   "cell_type": "markdown",
   "metadata": {},
   "source": [
    "## Data Preparation"
   ]
  },
  {
   "cell_type": "code",
   "execution_count": 111,
   "metadata": {},
   "outputs": [
    {
     "data": {
      "text/html": [
       "<div>\n",
       "<style scoped>\n",
       "    .dataframe tbody tr th:only-of-type {\n",
       "        vertical-align: middle;\n",
       "    }\n",
       "\n",
       "    .dataframe tbody tr th {\n",
       "        vertical-align: top;\n",
       "    }\n",
       "\n",
       "    .dataframe thead th {\n",
       "        text-align: right;\n",
       "    }\n",
       "</style>\n",
       "<table border=\"1\" class=\"dataframe\">\n",
       "  <thead>\n",
       "    <tr style=\"text-align: right;\">\n",
       "      <th></th>\n",
       "      <th>Sepal_len_cm</th>\n",
       "      <th>Sepal_wid_cm</th>\n",
       "      <th>Petal_len_cm</th>\n",
       "      <th>Petal_wid_cm</th>\n",
       "      <th>Type</th>\n",
       "    </tr>\n",
       "  </thead>\n",
       "  <tbody>\n",
       "    <tr>\n",
       "      <th>0</th>\n",
       "      <td>4.9</td>\n",
       "      <td>3.0</td>\n",
       "      <td>1.4</td>\n",
       "      <td>0.2</td>\n",
       "      <td>0</td>\n",
       "    </tr>\n",
       "    <tr>\n",
       "      <th>1</th>\n",
       "      <td>4.7</td>\n",
       "      <td>3.2</td>\n",
       "      <td>1.3</td>\n",
       "      <td>0.2</td>\n",
       "      <td>0</td>\n",
       "    </tr>\n",
       "    <tr>\n",
       "      <th>2</th>\n",
       "      <td>4.6</td>\n",
       "      <td>3.1</td>\n",
       "      <td>1.5</td>\n",
       "      <td>0.2</td>\n",
       "      <td>0</td>\n",
       "    </tr>\n",
       "    <tr>\n",
       "      <th>3</th>\n",
       "      <td>5.0</td>\n",
       "      <td>3.6</td>\n",
       "      <td>1.4</td>\n",
       "      <td>0.2</td>\n",
       "      <td>0</td>\n",
       "    </tr>\n",
       "    <tr>\n",
       "      <th>4</th>\n",
       "      <td>5.4</td>\n",
       "      <td>3.9</td>\n",
       "      <td>1.7</td>\n",
       "      <td>0.4</td>\n",
       "      <td>0</td>\n",
       "    </tr>\n",
       "    <tr>\n",
       "      <th>5</th>\n",
       "      <td>4.6</td>\n",
       "      <td>3.4</td>\n",
       "      <td>1.4</td>\n",
       "      <td>0.3</td>\n",
       "      <td>0</td>\n",
       "    </tr>\n",
       "    <tr>\n",
       "      <th>6</th>\n",
       "      <td>5.0</td>\n",
       "      <td>3.4</td>\n",
       "      <td>1.5</td>\n",
       "      <td>0.2</td>\n",
       "      <td>0</td>\n",
       "    </tr>\n",
       "    <tr>\n",
       "      <th>7</th>\n",
       "      <td>4.4</td>\n",
       "      <td>2.9</td>\n",
       "      <td>1.4</td>\n",
       "      <td>0.2</td>\n",
       "      <td>0</td>\n",
       "    </tr>\n",
       "    <tr>\n",
       "      <th>8</th>\n",
       "      <td>4.9</td>\n",
       "      <td>3.1</td>\n",
       "      <td>1.5</td>\n",
       "      <td>0.1</td>\n",
       "      <td>0</td>\n",
       "    </tr>\n",
       "    <tr>\n",
       "      <th>9</th>\n",
       "      <td>5.4</td>\n",
       "      <td>3.7</td>\n",
       "      <td>1.5</td>\n",
       "      <td>0.2</td>\n",
       "      <td>0</td>\n",
       "    </tr>\n",
       "  </tbody>\n",
       "</table>\n",
       "</div>"
      ],
      "text/plain": [
       "   Sepal_len_cm  Sepal_wid_cm  Petal_len_cm  Petal_wid_cm  Type\n",
       "0           4.9           3.0           1.4           0.2     0\n",
       "1           4.7           3.2           1.3           0.2     0\n",
       "2           4.6           3.1           1.5           0.2     0\n",
       "3           5.0           3.6           1.4           0.2     0\n",
       "4           5.4           3.9           1.7           0.4     0\n",
       "5           4.6           3.4           1.4           0.3     0\n",
       "6           5.0           3.4           1.5           0.2     0\n",
       "7           4.4           2.9           1.4           0.2     0\n",
       "8           4.9           3.1           1.5           0.1     0\n",
       "9           5.4           3.7           1.5           0.2     0"
      ]
     },
     "execution_count": 111,
     "metadata": {},
     "output_type": "execute_result"
    }
   ],
   "source": [
    "# Load data\n",
    "data = pd.read_csv('iris.csv')\n",
    "data.columns = ['Sepal_len_cm','Sepal_wid_cm','Petal_len_cm','Petal_wid_cm','Type']\n",
    "data.head(10)"
   ]
  },
  {
   "cell_type": "code",
   "execution_count": 112,
   "metadata": {},
   "outputs": [
    {
     "name": "stdout",
     "output_type": "stream",
     "text": [
      "Features shape: (149, 4)\n",
      "Labels shape: (149, 3)\n"
     ]
    }
   ],
   "source": [
    "# Prepare features and labels\n",
    "X = data.drop('Type', axis=1).values\n",
    "y = data['Type'].values\n",
    "\n",
    "# Convert to one-hot encoding for multi-class classification\n",
    "def to_one_hot(labels):\n",
    "    n_classes = len(np.unique(labels))\n",
    "    one_hot = np.zeros((labels.shape[0], n_classes))\n",
    "    for i, label in enumerate(labels):\n",
    "        if label == -1:  # First class\n",
    "            one_hot[i, 0] = 1\n",
    "        elif label == 0:  # Second class\n",
    "            one_hot[i, 1] = 1\n",
    "        else:  # Third class (label == 1)\n",
    "            one_hot[i, 2] = 1\n",
    "    return one_hot\n",
    "\n",
    "y_one_hot = to_one_hot(y)\n",
    "\n",
    "print(\"Features shape:\", X.shape)\n",
    "print(\"Labels shape:\", y_one_hot.shape)"
   ]
  },
  {
   "cell_type": "code",
   "execution_count": 113,
   "metadata": {},
   "outputs": [
    {
     "name": "stdout",
     "output_type": "stream",
     "text": [
      "Training set shape: (104, 4) (104, 3)\n",
      "Testing set shape: (45, 4) (45, 3)\n"
     ]
    }
   ],
   "source": [
    "# Split data into training and testing sets\n",
    "X_train, X_test, y_train, y_test = train_test_split(X, y_one_hot, test_size=0.3, random_state=42)\n",
    "\n",
    "# Standardize features\n",
    "scaler = StandardScaler()\n",
    "X_train = scaler.fit_transform(X_train)\n",
    "X_test = scaler.transform(X_test)\n",
    "\n",
    "print(\"Training set shape:\", X_train.shape, y_train.shape)\n",
    "print(\"Testing set shape:\", X_test.shape, y_test.shape)"
   ]
  },
  {
   "cell_type": "markdown",
   "metadata": {},
   "source": [
    "## MLP Implementation"
   ]
  },
  {
   "cell_type": "code",
   "execution_count": 114,
   "metadata": {},
   "outputs": [],
   "source": [
    "class MultiLayerPerceptron:\n",
    "    def __init__(self, input_size, hidden_size, output_size, learning_rate=0.01):\n",
    "        self.input_size = input_size\n",
    "        self.hidden_size = hidden_size\n",
    "        self.output_size = output_size\n",
    "        self.learning_rate = learning_rate\n",
    "        \n",
    "        # Initialize weights and biases\n",
    "        self.W1 = np.random.randn(self.input_size, self.hidden_size) * 0.1\n",
    "        self.b1 = np.zeros((1, self.hidden_size))\n",
    "        self.W2 = np.random.randn(self.hidden_size, self.output_size) * 0.1\n",
    "        self.b2 = np.zeros((1, self.output_size))\n",
    "        \n",
    "    def sigmoid(self, x):\n",
    "        # Clip x to prevent overflow\n",
    "        x = np.clip(x, -500, 500)\n",
    "        return 1 / (1 + np.exp(-x))\n",
    "    \n",
    "    def sigmoid_derivative(self, x):\n",
    "        return x * (1 - x)\n",
    "    \n",
    "    def forward(self, X):\n",
    "        # Forward propagation\n",
    "        self.z1 = np.dot(X, self.W1) + self.b1\n",
    "        self.a1 = self.sigmoid(self.z1)\n",
    "        self.z2 = np.dot(self.a1, self.W2) + self.b2\n",
    "        self.a2 = self.sigmoid(self.z2)\n",
    "        return self.a2\n",
    "    \n",
    "    def backward(self, X, y, output):\n",
    "        # Backward propagation\n",
    "        m = X.shape[0]\n",
    "        \n",
    "        # Calculate gradients\n",
    "        dZ2 = output - y\n",
    "        dW2 = (1/m) * np.dot(self.a1.T, dZ2)\n",
    "        db2 = (1/m) * np.sum(dZ2, axis=0, keepdims=True)\n",
    "        \n",
    "        dA1 = np.dot(dZ2, self.W2.T)\n",
    "        dZ1 = dA1 * self.sigmoid_derivative(self.a1)\n",
    "        dW1 = (1/m) * np.dot(X.T, dZ1)\n",
    "        db1 = (1/m) * np.sum(dZ1, axis=0, keepdims=True)\n",
    "        \n",
    "        # Update weights and biases\n",
    "        self.W2 -= self.learning_rate * dW2\n",
    "        self.b2 -= self.learning_rate * db2\n",
    "        self.W1 -= self.learning_rate * dW1\n",
    "        self.b1 -= self.learning_rate * db1\n",
    "    \n",
    "    def train(self, X, y, epochs):\n",
    "        self.losses = []\n",
    "        \n",
    "        for i in range(epochs):\n",
    "            # Forward propagation\n",
    "            output = self.forward(X)\n",
    "            \n",
    "            # Calculate loss (Mean Squared Error)\n",
    "            loss = np.mean((output - y) ** 2)\n",
    "            self.losses.append(loss)\n",
    "            \n",
    "            # Backward propagation\n",
    "            self.backward(X, y, output)\n",
    "            \n",
    "            if i % 100 == 0:\n",
    "                print(f\"Epoch {i}, Loss: {loss}\")\n",
    "    \n",
    "    def predict(self, X):\n",
    "        output = self.forward(X)\n",
    "        # Convert probabilities to class predictions\n",
    "        return np.argmax(output, axis=1)\n",
    "    \n",
    "    def predict_proba(self, X):\n",
    "        return self.forward(X)"
   ]
  },
  {
   "cell_type": "markdown",
   "metadata": {},
   "source": [
    "## Training the MLP"
   ]
  },
  {
   "cell_type": "code",
   "execution_count": 115,
   "metadata": {},
   "outputs": [],
   "source": [
    "# Create MLP model\n",
    "# Input: 4 features, Hidden: 10 neurons, Output: 3 classes\n",
    "mlp = MultiLayerPerceptron(input_size=4, hidden_size=10, output_size=3, learning_rate=0.5)"
   ]
  },
  {
   "cell_type": "code",
   "execution_count": 116,
   "metadata": {},
   "outputs": [
    {
     "name": "stdout",
     "output_type": "stream",
     "text": [
      "Training MLP...\n",
      "Epoch 0, Loss: 0.2666974690463228\n",
      "Epoch 100, Loss: 0.07925939937341209\n",
      "Epoch 200, Loss: 0.04298266317276589\n",
      "Epoch 300, Loss: 0.016967085228474774\n",
      "Epoch 400, Loss: 0.008826491047594153\n",
      "Epoch 500, Loss: 0.006094762443827007\n",
      "Epoch 600, Loss: 0.004796617157091158\n",
      "Epoch 700, Loss: 0.004037692763702873\n",
      "Epoch 800, Loss: 0.003534679882226559\n",
      "Epoch 900, Loss: 0.0031723518774214045\n"
     ]
    }
   ],
   "source": [
    "# Train the model\n",
    "print(\"Training MLP...\")\n",
    "mlp.train(X_train, y_train, epochs=1000)"
   ]
  },
  {
   "cell_type": "code",
   "execution_count": 117,
   "metadata": {},
   "outputs": [
    {
     "data": {
      "image/png": "[encoded data removed]",
      "text/plain": [
       "<Figure size 1000x600 with 1 Axes>"
      ]
     },
     "metadata": {},
     "output_type": "display_data"
    }
   ],
   "source": [
    "# Plot training loss\n",
    "plt.figure(figsize=(10, 6))\n",
    "plt.plot(mlp.losses)\n",
    "plt.title('Training Loss Over Time')\n",
    "plt.xlabel('Epoch')\n",
    "plt.ylabel('Loss')\n",
    "plt.grid(True)\n",
    "plt.show()"
   ]
  },
  {
   "cell_type": "markdown",
   "metadata": {},
   "source": [
    "## Evaluation"
   ]
  },
  {
   "cell_type": "code",
   "execution_count": 118,
   "metadata": {},
   "outputs": [
    {
     "name": "stdout",
     "output_type": "stream",
     "text": [
      "Training Accuracy: 100.00%\n",
      "Testing Accuracy: 93.33%\n"
     ]
    }
   ],
   "source": [
    "# Convert one-hot encoded labels back to class labels for evaluation\n",
    "def from_one_hot(one_hot):\n",
    "    return np.argmax(one_hot, axis=1)\n",
    "\n",
    "# Predictions\n",
    "y_train_pred = mlp.predict(X_train)\n",
    "y_test_pred = mlp.predict(X_test)\n",
    "\n",
    "y_train_true = from_one_hot(y_train)\n",
    "y_test_true = from_one_hot(y_test)\n",
    "\n",
    "# Calculate accuracies\n",
    "train_accuracy = accuracy_score(y_train_true, y_train_pred)\n",
    "test_accuracy = accuracy_score(y_test_true, y_test_pred)\n",
    "\n",
    "print(f\"Training Accuracy: {train_accuracy * 100:.2f}%\")\n",
    "print(f\"Testing Accuracy: {test_accuracy * 100:.2f}%\")"
   ]
  },
  {
   "cell_type": "code",
   "execution_count": 119,
   "metadata": {},
   "outputs": [
    {
     "data": {
      "image/png": "[encoded data removed]",
      "text/plain": [
       "<Figure size 800x600 with 2 Axes>"
      ]
     },
     "metadata": {},
     "output_type": "display_data"
    }
   ],
   "source": [
    "# Confusion Matrix\n",
    "cm = confusion_matrix(y_test_true, y_test_pred)\n",
    "\n",
    "plt.figure(figsize=(8, 6))\n",
    "sns.heatmap(cm, annot=True, fmt='d', cmap='Blues', \n",
    "            xticklabels=['Class -1', 'Class 0', 'Class 1'],\n",
    "            yticklabels=['Class -1', 'Class 0', 'Class 1'])\n",
    "plt.title('Confusion Matrix')\n",
    "plt.xlabel('Predicted')\n",
    "plt.ylabel('Actual')\n",
    "plt.show()"
   ]
  },
  {
   "cell_type": "markdown",
   "metadata": {},
   "source": [
    "## Comparison with Single-Layer Perceptron"
   ]
  },
  {
   "cell_type": "code",
   "execution_count": 120,
   "metadata": {},
   "outputs": [
    {
     "name": "stdout",
     "output_type": "stream",
     "text": [
      "Comparison between Single-Layer and Multi-Layer Perceptrons:\n",
      "\n",
      "Single-Layer Perceptron (from previous notebook): ~38% accuracy\n",
      "Multi-Layer Perceptron (this notebook): 93.33% accuracy\n",
      "\n",
      "Improvement: 55.33% points\n"
     ]
    }
   ],
   "source": [
    "print(\"Comparison between Single-Layer and Multi-Layer Perceptrons:\")\n",
    "print(\"\\nSingle-Layer Perceptron (from previous notebook): ~38% accuracy\")\n",
    "print(f\"Multi-Layer Perceptron (this notebook): {test_accuracy * 100:.2f}% accuracy\")\n",
    "print(f\"\\nImprovement: {(test_accuracy * 100 - 38):.2f}% points\")"
   ]
  },
  {
   "cell_type": "markdown",
   "metadata": {},
   "source": [
    "## Testing with Sample Data"
   ]
  },
  {
   "cell_type": "code",
   "execution_count": 121,
   "metadata": {},
   "outputs": [
    {
     "name": "stdout",
     "output_type": "stream",
     "text": [
      "\n",
      "Sample 0: \n",
      "  True class: -1\n",
      "  Predicted class: -1\n",
      "  Probabilities: Class -1: 0.9931, Class 0: 0.0020, Class 1: 0.0021\n",
      "  Correct: Yes\n",
      "\n",
      "Sample 1: \n",
      "  True class: 0\n",
      "  Predicted class: 0\n",
      "  Probabilities: Class -1: 0.0069, Class 0: 0.9970, Class 1: 0.0000\n",
      "  Correct: Yes\n",
      "\n",
      "Sample 2: \n",
      "  True class: 1\n",
      "  Predicted class: 1\n",
      "  Probabilities: Class -1: 0.0034, Class 0: 0.0000, Class 1: 0.9990\n",
      "  Correct: Yes\n"
     ]
    }
   ],
   "source": [
    "# Test with a sample from each class\n",
    "sample_indices = [\n",
    "    np.where(y_test_true == 0)[0][0],  # First sample of class -1\n",
    "    np.where(y_test_true == 1)[0][0],  # First sample of class 0\n",
    "    np.where(y_test_true == 2)[0][0]   # First sample of class 1\n",
    "]\n",
    "\n",
    "for i in sample_indices:\n",
    "    sample = X_test[i:i+1]\n",
    "    true_class = y_test_true[i]\n",
    "    pred_class = y_test_pred[i]\n",
    "    probabilities = mlp.predict_proba(sample)[0]\n",
    "    \n",
    "    class_map = {0: -1, 1: 0, 2: 1}\n",
    "    \n",
    "    print(f\"\\nSample {i}: \")\n",
    "    print(f\"  True class: {class_map[true_class]}\")\n",
    "    print(f\"  Predicted class: {class_map[pred_class]}\")\n",
    "    print(f\"  Probabilities: Class -1: {probabilities[0]:.4f}, Class 0: {probabilities[1]:.4f}, Class 1: {probabilities[2]:.4f}\")\n",
    "    print(f\"  Correct: {'Yes' if true_class == pred_class else 'No'}\")"
   ]
  }
 ],
 "metadata": {
  "kernelspec": {
   "display_name": "Python 3",
   "language": "python",
   "name": "python3"
  },
  "language_info": {
   "codemirror_mode": {
    "name": "ipython",
    "version": 3
   },
   "file_extension": ".py",
   "mimetype": "text/x-python",
   "name": "python",
   "nbconvert_exporter": "python",
   "pygments_lexer": "ipython3",
   "version": "3.11.4"
  }
 },
 "nbformat": 4,
 "nbformat_minor": 4
}
